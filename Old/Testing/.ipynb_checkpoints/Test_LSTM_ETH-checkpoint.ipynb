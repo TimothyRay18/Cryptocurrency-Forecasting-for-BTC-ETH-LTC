{
 "cells": [
  {
   "cell_type": "code",
   "execution_count": 1,
   "id": "3d0aa9f1-8162-4f51-8666-384a83630ce5",
   "metadata": {},
   "outputs": [],
   "source": [
    "from tensorflow import keras\n",
    "from Skripsi import Preprocessing\n",
    "from Skripsi import Evaluation\n",
    "from Skripsi import LSTMUnit\n",
    "from pandas import read_csv\n",
    "from pandas import DataFrame\n",
    "import numpy as np\n",
    "import pandas as pd\n",
    "from openpyxl.workbook import Workbook"
   ]
  },
  {
   "cell_type": "code",
   "execution_count": 2,
   "id": "6aa22282-0918-460c-b045-bd64f76068f5",
   "metadata": {},
   "outputs": [
    {
     "data": {
      "text/plain": [
       "[(32, 25, 50),\n",
       " (32, 25, 60),\n",
       " (32, 25, 100),\n",
       " (32, 50, 50),\n",
       " (32, 50, 60),\n",
       " (32, 50, 100),\n",
       " (32, 100, 50),\n",
       " (32, 100, 60),\n",
       " (32, 100, 100)]"
      ]
     },
     "execution_count": 2,
     "metadata": {},
     "output_type": "execute_result"
    }
   ],
   "source": [
    "hyperparams = []\n",
    "batch = [32, 64, 128]\n",
    "epoch = [25, 50, 100]\n",
    "neuron = [50, 60, 100]\n",
    "for j in batch:\n",
    "    for k in epoch:\n",
    "        for l in neuron:\n",
    "            hyperparams.append((j,k,l))\n",
    "hyperparam1 = hyperparams[:9]\n",
    "hyperparam2 = hyperparams[9:18]\n",
    "hyperparam3 = hyperparams[18:27]\n",
    "hyperparam1"
   ]
  },
  {
   "cell_type": "code",
   "execution_count": 3,
   "id": "5afadb25-e60b-4a51-b52f-b7ce399615d4",
   "metadata": {},
   "outputs": [
    {
     "name": "stdout",
     "output_type": "stream",
     "text": [
      "duplicate ok\n",
      "No missing value\n"
     ]
    }
   ],
   "source": [
    "btc_dfd = pd.read_csv('../Dataset/Binance_ETHUSDT_1h.csv')\n",
    "df = Preprocessing.feature_selection(btc_dfd)\n",
    "df_no_dup = Preprocessing.handle_duplicate(df)\n",
    "miss = Preprocessing.handle_missing_value(df_no_dup)\n",
    "x, scaler = Preprocessing.minmax_scale(df_no_dup)\n",
    "train, test = Preprocessing.splitting_data(x)\n",
    "train_X, train_y = Preprocessing.create_dataset(train,5)\n",
    "test_X, test_y = Preprocessing.create_dataset(test,5)"
   ]
  },
  {
   "cell_type": "code",
   "execution_count": 4,
   "id": "57f55621-28fe-4ec4-a534-24540aa20020",
   "metadata": {},
   "outputs": [
    {
     "name": "stdout",
     "output_type": "stream",
     "text": [
      "(21014, 5, 5) (21014,) (5250, 5, 5) (5250,)\n"
     ]
    }
   ],
   "source": [
    "print(train_X.shape, train_y.shape, test_X.shape, test_y.shape)"
   ]
  },
  {
   "cell_type": "code",
   "execution_count": 5,
   "id": "0e955542-c74d-4e48-9eea-696ca4022b95",
   "metadata": {},
   "outputs": [
    {
     "name": "stdout",
     "output_type": "stream",
     "text": [
      "Metal device set to: Apple M1\n"
     ]
    },
    {
     "name": "stderr",
     "output_type": "stream",
     "text": [
      "2023-03-17 11:26:53.036328: I tensorflow/core/common_runtime/pluggable_device/pluggable_device_factory.cc:306] Could not identify NUMA node of platform GPU ID 0, defaulting to 0. Your kernel may not have been built with NUMA support.\n",
      "2023-03-17 11:26:53.036443: I tensorflow/core/common_runtime/pluggable_device/pluggable_device_factory.cc:272] Created TensorFlow device (/job:localhost/replica:0/task:0/device:GPU:0 with 0 MB memory) -> physical PluggableDevice (device: 0, name: METAL, pci bus id: <undefined>)\n",
      "2023-03-17 11:26:53.284273: W tensorflow/core/platform/profile_utils/cpu_utils.cc:128] Failed to get CPU frequency: 0 Hz\n",
      "2023-03-17 11:26:53.378416: I tensorflow/core/grappler/optimizers/custom_graph_optimizer_registry.cc:114] Plugin optimizer for device_type GPU is enabled.\n",
      "2023-03-17 11:26:53.413757: I tensorflow/core/grappler/optimizers/custom_graph_optimizer_registry.cc:114] Plugin optimizer for device_type GPU is enabled.\n"
     ]
    },
    {
     "name": "stdout",
     "output_type": "stream",
     "text": [
      "165/165 [==============================] - 1s 3ms/step\n",
      "(32, 25, 50)\n",
      "Neurons: 50\n",
      "RMSE\n",
      "27.64908913984386\n",
      "MAE\n",
      "23.37097874953494\n",
      "MAPE\n",
      "1.7479863235450748\n",
      " 39/165 [======>.......................] - ETA: 0s"
     ]
    },
    {
     "name": "stderr",
     "output_type": "stream",
     "text": [
      "2023-03-17 11:26:54.271333: I tensorflow/core/grappler/optimizers/custom_graph_optimizer_registry.cc:114] Plugin optimizer for device_type GPU is enabled.\n",
      "2023-03-17 11:26:54.299158: I tensorflow/core/grappler/optimizers/custom_graph_optimizer_registry.cc:114] Plugin optimizer for device_type GPU is enabled.\n"
     ]
    },
    {
     "name": "stdout",
     "output_type": "stream",
     "text": [
      "165/165 [==============================] - 1s 3ms/step\n",
      "(32, 25, 60)\n",
      "Neurons: 60\n",
      "RMSE\n",
      "26.946240026925064\n",
      "MAE\n",
      "22.710255709170347\n",
      "MAPE\n",
      "1.6905828779996992\n",
      " 39/165 [======>.......................] - ETA: 0s"
     ]
    },
    {
     "name": "stderr",
     "output_type": "stream",
     "text": [
      "2023-03-17 11:26:55.082700: I tensorflow/core/grappler/optimizers/custom_graph_optimizer_registry.cc:114] Plugin optimizer for device_type GPU is enabled.\n",
      "2023-03-17 11:26:55.111724: I tensorflow/core/grappler/optimizers/custom_graph_optimizer_registry.cc:114] Plugin optimizer for device_type GPU is enabled.\n"
     ]
    },
    {
     "name": "stdout",
     "output_type": "stream",
     "text": [
      "165/165 [==============================] - 1s 3ms/step\n",
      "(32, 25, 100)\n",
      "Neurons: 100\n",
      "RMSE\n",
      "31.17576840765954\n",
      "MAE\n",
      "26.80693347981768\n",
      "MAPE\n",
      "2.042760871736448\n",
      " 38/165 [=====>........................] - ETA: 0s"
     ]
    },
    {
     "name": "stderr",
     "output_type": "stream",
     "text": [
      "2023-03-17 11:26:55.867513: I tensorflow/core/grappler/optimizers/custom_graph_optimizer_registry.cc:114] Plugin optimizer for device_type GPU is enabled.\n",
      "2023-03-17 11:26:55.893507: I tensorflow/core/grappler/optimizers/custom_graph_optimizer_registry.cc:114] Plugin optimizer for device_type GPU is enabled.\n"
     ]
    },
    {
     "name": "stdout",
     "output_type": "stream",
     "text": [
      "165/165 [==============================] - 1s 3ms/step\n",
      "(32, 50, 50)\n",
      "Neurons: 50\n",
      "RMSE\n",
      "31.14240200950992\n",
      "MAE\n",
      "26.790758326822857\n",
      "MAPE\n",
      "2.0614107702807902\n",
      " 39/165 [======>.......................] - ETA: 0s"
     ]
    },
    {
     "name": "stderr",
     "output_type": "stream",
     "text": [
      "2023-03-17 11:26:56.638222: I tensorflow/core/grappler/optimizers/custom_graph_optimizer_registry.cc:114] Plugin optimizer for device_type GPU is enabled.\n",
      "2023-03-17 11:26:56.663713: I tensorflow/core/grappler/optimizers/custom_graph_optimizer_registry.cc:114] Plugin optimizer for device_type GPU is enabled.\n"
     ]
    },
    {
     "name": "stdout",
     "output_type": "stream",
     "text": [
      "165/165 [==============================] - 1s 3ms/step\n",
      "(32, 50, 60)\n",
      "Neurons: 60\n",
      "RMSE\n",
      "28.644728866222426\n",
      "MAE\n",
      "24.61199906575515\n",
      "MAPE\n",
      "1.8790637001257782\n",
      " 39/165 [======>.......................] - ETA: 0s"
     ]
    },
    {
     "name": "stderr",
     "output_type": "stream",
     "text": [
      "2023-03-17 11:26:57.502257: I tensorflow/core/grappler/optimizers/custom_graph_optimizer_registry.cc:114] Plugin optimizer for device_type GPU is enabled.\n",
      "2023-03-17 11:26:57.528324: I tensorflow/core/grappler/optimizers/custom_graph_optimizer_registry.cc:114] Plugin optimizer for device_type GPU is enabled.\n"
     ]
    },
    {
     "name": "stdout",
     "output_type": "stream",
     "text": [
      "165/165 [==============================] - 1s 3ms/step\n",
      "(32, 50, 100)\n",
      "Neurons: 100\n",
      "RMSE\n",
      "37.15086400916405\n",
      "MAE\n",
      "31.976691506231408\n",
      "MAPE\n",
      "2.485483621440539\n",
      " 38/165 [=====>........................] - ETA: 0s"
     ]
    },
    {
     "name": "stderr",
     "output_type": "stream",
     "text": [
      "2023-03-17 11:26:58.261666: I tensorflow/core/grappler/optimizers/custom_graph_optimizer_registry.cc:114] Plugin optimizer for device_type GPU is enabled.\n",
      "2023-03-17 11:26:58.288028: I tensorflow/core/grappler/optimizers/custom_graph_optimizer_registry.cc:114] Plugin optimizer for device_type GPU is enabled.\n"
     ]
    },
    {
     "name": "stdout",
     "output_type": "stream",
     "text": [
      "165/165 [==============================] - 1s 3ms/step\n",
      "(32, 100, 50)\n",
      "Neurons: 50\n",
      "RMSE\n",
      "32.35684567505489\n",
      "MAE\n",
      "27.75773746465767\n",
      "MAPE\n",
      "2.1495913515475062\n",
      " 39/165 [======>.......................] - ETA: 0s"
     ]
    },
    {
     "name": "stderr",
     "output_type": "stream",
     "text": [
      "2023-03-17 11:26:59.029859: I tensorflow/core/grappler/optimizers/custom_graph_optimizer_registry.cc:114] Plugin optimizer for device_type GPU is enabled.\n",
      "2023-03-17 11:26:59.056397: I tensorflow/core/grappler/optimizers/custom_graph_optimizer_registry.cc:114] Plugin optimizer for device_type GPU is enabled.\n"
     ]
    },
    {
     "name": "stdout",
     "output_type": "stream",
     "text": [
      "165/165 [==============================] - 1s 3ms/step\n",
      "(32, 100, 60)\n",
      "Neurons: 60\n",
      "RMSE\n",
      "35.75298178405699\n",
      "MAE\n",
      "30.875761155133873\n",
      "MAPE\n",
      "2.3993332526518203\n",
      " 37/165 [=====>........................] - ETA: 0s"
     ]
    },
    {
     "name": "stderr",
     "output_type": "stream",
     "text": [
      "2023-03-17 11:26:59.813576: I tensorflow/core/grappler/optimizers/custom_graph_optimizer_registry.cc:114] Plugin optimizer for device_type GPU is enabled.\n",
      "2023-03-17 11:26:59.839984: I tensorflow/core/grappler/optimizers/custom_graph_optimizer_registry.cc:114] Plugin optimizer for device_type GPU is enabled.\n"
     ]
    },
    {
     "name": "stdout",
     "output_type": "stream",
     "text": [
      "165/165 [==============================] - 1s 3ms/step\n",
      "(32, 100, 100)\n",
      "Neurons: 100\n",
      "RMSE\n",
      "38.119879120137234\n",
      "MAE\n",
      "32.95544585425968\n",
      "MAPE\n",
      "2.5675166866204173\n",
      " 42/165 [======>.......................] - ETA: 0s"
     ]
    },
    {
     "name": "stderr",
     "output_type": "stream",
     "text": [
      "2023-03-17 11:27:00.561019: I tensorflow/core/grappler/optimizers/custom_graph_optimizer_registry.cc:114] Plugin optimizer for device_type GPU is enabled.\n",
      "2023-03-17 11:27:00.585608: I tensorflow/core/grappler/optimizers/custom_graph_optimizer_registry.cc:114] Plugin optimizer for device_type GPU is enabled.\n"
     ]
    },
    {
     "name": "stdout",
     "output_type": "stream",
     "text": [
      "165/165 [==============================] - 1s 2ms/step\n",
      "(64, 25, 50)\n",
      "Neurons: 50\n",
      "RMSE\n",
      "28.457319700021063\n",
      "MAE\n",
      "24.209687601376423\n",
      "MAPE\n",
      "1.857569002384121\n",
      " 40/165 [======>.......................] - ETA: 0s"
     ]
    },
    {
     "name": "stderr",
     "output_type": "stream",
     "text": [
      "2023-03-17 11:27:01.267552: I tensorflow/core/grappler/optimizers/custom_graph_optimizer_registry.cc:114] Plugin optimizer for device_type GPU is enabled.\n",
      "2023-03-17 11:27:01.292029: I tensorflow/core/grappler/optimizers/custom_graph_optimizer_registry.cc:114] Plugin optimizer for device_type GPU is enabled.\n"
     ]
    },
    {
     "name": "stdout",
     "output_type": "stream",
     "text": [
      "165/165 [==============================] - 1s 3ms/step\n",
      "(64, 25, 60)\n",
      "Neurons: 60\n",
      "RMSE\n",
      "28.582437352286025\n",
      "MAE\n",
      "24.269843030598892\n",
      "MAPE\n",
      "1.8668487883769638\n",
      " 45/165 [=======>......................] - ETA: 0s"
     ]
    },
    {
     "name": "stderr",
     "output_type": "stream",
     "text": [
      "2023-03-17 11:27:01.989791: I tensorflow/core/grappler/optimizers/custom_graph_optimizer_registry.cc:114] Plugin optimizer for device_type GPU is enabled.\n",
      "2023-03-17 11:27:02.014045: I tensorflow/core/grappler/optimizers/custom_graph_optimizer_registry.cc:114] Plugin optimizer for device_type GPU is enabled.\n"
     ]
    },
    {
     "name": "stdout",
     "output_type": "stream",
     "text": [
      "165/165 [==============================] - 1s 2ms/step\n",
      "(64, 25, 100)\n",
      "Neurons: 100\n",
      "RMSE\n",
      "30.043875663490674\n",
      "MAE\n",
      "25.661205711030462\n",
      "MAPE\n",
      "1.978536894262625\n",
      " 39/165 [======>.......................] - ETA: 0s"
     ]
    },
    {
     "name": "stderr",
     "output_type": "stream",
     "text": [
      "2023-03-17 11:27:02.679415: I tensorflow/core/grappler/optimizers/custom_graph_optimizer_registry.cc:114] Plugin optimizer for device_type GPU is enabled.\n",
      "2023-03-17 11:27:02.703572: I tensorflow/core/grappler/optimizers/custom_graph_optimizer_registry.cc:114] Plugin optimizer for device_type GPU is enabled.\n"
     ]
    },
    {
     "name": "stdout",
     "output_type": "stream",
     "text": [
      "165/165 [==============================] - 1s 3ms/step\n",
      "(64, 50, 50)\n",
      "Neurons: 50\n",
      "RMSE\n",
      "26.163273520070334\n",
      "MAE\n",
      "22.277267765066924\n",
      "MAPE\n",
      "1.7180876961906073\n",
      " 43/165 [======>.......................] - ETA: 0s"
     ]
    },
    {
     "name": "stderr",
     "output_type": "stream",
     "text": [
      "2023-03-17 11:27:03.400055: I tensorflow/core/grappler/optimizers/custom_graph_optimizer_registry.cc:114] Plugin optimizer for device_type GPU is enabled.\n",
      "2023-03-17 11:27:03.424577: I tensorflow/core/grappler/optimizers/custom_graph_optimizer_registry.cc:114] Plugin optimizer for device_type GPU is enabled.\n"
     ]
    },
    {
     "name": "stdout",
     "output_type": "stream",
     "text": [
      "165/165 [==============================] - 1s 2ms/step\n",
      "(64, 50, 60)\n",
      "Neurons: 60\n",
      "RMSE\n",
      "26.391315651297752\n",
      "MAE\n",
      "22.387950376674063\n",
      "MAPE\n",
      "1.7307270316178018\n",
      " 44/165 [=======>......................] - ETA: 0s"
     ]
    },
    {
     "name": "stderr",
     "output_type": "stream",
     "text": [
      "2023-03-17 11:27:04.118195: I tensorflow/core/grappler/optimizers/custom_graph_optimizer_registry.cc:114] Plugin optimizer for device_type GPU is enabled.\n",
      "2023-03-17 11:27:04.142577: I tensorflow/core/grappler/optimizers/custom_graph_optimizer_registry.cc:114] Plugin optimizer for device_type GPU is enabled.\n"
     ]
    },
    {
     "name": "stdout",
     "output_type": "stream",
     "text": [
      "165/165 [==============================] - 1s 2ms/step\n",
      "(64, 50, 100)\n",
      "Neurons: 100\n",
      "RMSE\n",
      "27.246318759340834\n",
      "MAE\n",
      "23.18535777669265\n",
      "MAPE\n",
      "1.7938667886050208\n",
      " 35/165 [=====>........................] - ETA: 0s"
     ]
    },
    {
     "name": "stderr",
     "output_type": "stream",
     "text": [
      "2023-03-17 11:27:04.809166: I tensorflow/core/grappler/optimizers/custom_graph_optimizer_registry.cc:114] Plugin optimizer for device_type GPU is enabled.\n",
      "2023-03-17 11:27:04.833428: I tensorflow/core/grappler/optimizers/custom_graph_optimizer_registry.cc:114] Plugin optimizer for device_type GPU is enabled.\n"
     ]
    },
    {
     "name": "stdout",
     "output_type": "stream",
     "text": [
      "165/165 [==============================] - 1s 3ms/step\n",
      "(64, 100, 50)\n",
      "Neurons: 50\n",
      "RMSE\n",
      "23.922227944627807\n",
      "MAE\n",
      "20.157103680710534\n",
      "MAPE\n",
      "1.5516726999955583\n",
      " 42/165 [======>.......................] - ETA: 0s"
     ]
    },
    {
     "name": "stderr",
     "output_type": "stream",
     "text": [
      "2023-03-17 11:27:05.736753: I tensorflow/core/grappler/optimizers/custom_graph_optimizer_registry.cc:114] Plugin optimizer for device_type GPU is enabled.\n",
      "2023-03-17 11:27:05.760671: I tensorflow/core/grappler/optimizers/custom_graph_optimizer_registry.cc:114] Plugin optimizer for device_type GPU is enabled.\n"
     ]
    },
    {
     "name": "stdout",
     "output_type": "stream",
     "text": [
      "165/165 [==============================] - 1s 2ms/step\n",
      "(64, 100, 60)\n",
      "Neurons: 60\n",
      "RMSE\n",
      "23.205060868462116\n",
      "MAE\n",
      "19.50218798363094\n",
      "MAPE\n",
      "1.499532954487258\n",
      " 37/165 [=====>........................] - ETA: 0s"
     ]
    },
    {
     "name": "stderr",
     "output_type": "stream",
     "text": [
      "2023-03-17 11:27:06.448505: I tensorflow/core/grappler/optimizers/custom_graph_optimizer_registry.cc:114] Plugin optimizer for device_type GPU is enabled.\n",
      "2023-03-17 11:27:06.473126: I tensorflow/core/grappler/optimizers/custom_graph_optimizer_registry.cc:114] Plugin optimizer for device_type GPU is enabled.\n"
     ]
    },
    {
     "name": "stdout",
     "output_type": "stream",
     "text": [
      "165/165 [==============================] - 1s 3ms/step\n",
      "(64, 100, 100)\n",
      "Neurons: 100\n",
      "RMSE\n",
      "34.19817446502002\n",
      "MAE\n",
      "29.437868591889856\n",
      "MAPE\n",
      "2.295538561550832\n",
      " 42/165 [======>.......................] - ETA: 0s"
     ]
    },
    {
     "name": "stderr",
     "output_type": "stream",
     "text": [
      "2023-03-17 11:27:07.178133: I tensorflow/core/grappler/optimizers/custom_graph_optimizer_registry.cc:114] Plugin optimizer for device_type GPU is enabled.\n",
      "2023-03-17 11:27:07.202576: I tensorflow/core/grappler/optimizers/custom_graph_optimizer_registry.cc:114] Plugin optimizer for device_type GPU is enabled.\n"
     ]
    },
    {
     "name": "stdout",
     "output_type": "stream",
     "text": [
      "165/165 [==============================] - 1s 3ms/step\n",
      "(128, 25, 50)\n",
      "Neurons: 50\n",
      "RMSE\n",
      "118.50371642919266\n",
      "MAE\n",
      "116.79389768694142\n",
      "MAPE\n",
      "8.545722231171595\n",
      " 39/165 [======>.......................] - ETA: 0s"
     ]
    },
    {
     "name": "stderr",
     "output_type": "stream",
     "text": [
      "2023-03-17 11:27:07.909216: I tensorflow/core/grappler/optimizers/custom_graph_optimizer_registry.cc:114] Plugin optimizer for device_type GPU is enabled.\n",
      "2023-03-17 11:27:07.933548: I tensorflow/core/grappler/optimizers/custom_graph_optimizer_registry.cc:114] Plugin optimizer for device_type GPU is enabled.\n"
     ]
    },
    {
     "name": "stdout",
     "output_type": "stream",
     "text": [
      "165/165 [==============================] - 1s 3ms/step\n",
      "(128, 25, 60)\n",
      "Neurons: 60\n",
      "RMSE\n",
      "85.51646484765699\n",
      "MAE\n",
      "83.30637334821424\n",
      "MAPE\n",
      "6.0404981082139955\n",
      " 45/165 [=======>......................] - ETA: 0s"
     ]
    },
    {
     "name": "stderr",
     "output_type": "stream",
     "text": [
      "2023-03-17 11:27:08.643810: I tensorflow/core/grappler/optimizers/custom_graph_optimizer_registry.cc:114] Plugin optimizer for device_type GPU is enabled.\n",
      "2023-03-17 11:27:08.668031: I tensorflow/core/grappler/optimizers/custom_graph_optimizer_registry.cc:114] Plugin optimizer for device_type GPU is enabled.\n"
     ]
    },
    {
     "name": "stdout",
     "output_type": "stream",
     "text": [
      "165/165 [==============================] - 1s 2ms/step\n",
      "(128, 25, 100)\n",
      "Neurons: 100\n",
      "RMSE\n",
      "69.4338526576874\n",
      "MAE\n",
      "67.19586842680442\n",
      "MAPE\n",
      "4.8492126388672165\n",
      " 39/165 [======>.......................] - ETA: 0s"
     ]
    },
    {
     "name": "stderr",
     "output_type": "stream",
     "text": [
      "2023-03-17 11:27:09.351859: I tensorflow/core/grappler/optimizers/custom_graph_optimizer_registry.cc:114] Plugin optimizer for device_type GPU is enabled.\n",
      "2023-03-17 11:27:09.375963: I tensorflow/core/grappler/optimizers/custom_graph_optimizer_registry.cc:114] Plugin optimizer for device_type GPU is enabled.\n"
     ]
    },
    {
     "name": "stdout",
     "output_type": "stream",
     "text": [
      "165/165 [==============================] - 1s 3ms/step\n",
      "(128, 50, 50)\n",
      "Neurons: 50\n",
      "RMSE\n",
      "41.22722294879231\n",
      "MAE\n",
      "35.71309049339663\n",
      "MAPE\n",
      "2.482969404418566\n",
      " 40/165 [======>.......................] - ETA: 0s"
     ]
    },
    {
     "name": "stderr",
     "output_type": "stream",
     "text": [
      "2023-03-17 11:27:10.105426: I tensorflow/core/grappler/optimizers/custom_graph_optimizer_registry.cc:114] Plugin optimizer for device_type GPU is enabled.\n",
      "2023-03-17 11:27:10.129526: I tensorflow/core/grappler/optimizers/custom_graph_optimizer_registry.cc:114] Plugin optimizer for device_type GPU is enabled.\n"
     ]
    },
    {
     "name": "stdout",
     "output_type": "stream",
     "text": [
      "165/165 [==============================] - 1s 3ms/step\n",
      "(128, 50, 60)\n",
      "Neurons: 60\n",
      "RMSE\n",
      "89.14805939075048\n",
      "MAE\n",
      "86.55965733305426\n",
      "MAPE\n",
      "6.2028903206265245\n",
      " 42/165 [======>.......................] - ETA: 0s"
     ]
    },
    {
     "name": "stderr",
     "output_type": "stream",
     "text": [
      "2023-03-17 11:27:10.830440: I tensorflow/core/grappler/optimizers/custom_graph_optimizer_registry.cc:114] Plugin optimizer for device_type GPU is enabled.\n",
      "2023-03-17 11:27:10.854696: I tensorflow/core/grappler/optimizers/custom_graph_optimizer_registry.cc:114] Plugin optimizer for device_type GPU is enabled.\n"
     ]
    },
    {
     "name": "stdout",
     "output_type": "stream",
     "text": [
      "165/165 [==============================] - 1s 2ms/step\n",
      "(128, 50, 100)\n",
      "Neurons: 100\n",
      "RMSE\n",
      "152.85587053173413\n",
      "MAE\n",
      "151.49322421735502\n",
      "MAPE\n",
      "10.989636326624632\n",
      " 39/165 [======>.......................] - ETA: 0s"
     ]
    },
    {
     "name": "stderr",
     "output_type": "stream",
     "text": [
      "2023-03-17 11:27:11.530697: I tensorflow/core/grappler/optimizers/custom_graph_optimizer_registry.cc:114] Plugin optimizer for device_type GPU is enabled.\n",
      "2023-03-17 11:27:11.554979: I tensorflow/core/grappler/optimizers/custom_graph_optimizer_registry.cc:114] Plugin optimizer for device_type GPU is enabled.\n"
     ]
    },
    {
     "name": "stdout",
     "output_type": "stream",
     "text": [
      "165/165 [==============================] - 1s 3ms/step\n",
      "(128, 100, 50)\n",
      "Neurons: 50\n",
      "RMSE\n",
      "31.11188461281738\n",
      "MAE\n",
      "23.20781079148071\n",
      "MAPE\n",
      "1.7501896689865262\n",
      " 41/165 [======>.......................] - ETA: 0s"
     ]
    },
    {
     "name": "stderr",
     "output_type": "stream",
     "text": [
      "2023-03-17 11:27:12.254338: I tensorflow/core/grappler/optimizers/custom_graph_optimizer_registry.cc:114] Plugin optimizer for device_type GPU is enabled.\n",
      "2023-03-17 11:27:12.278721: I tensorflow/core/grappler/optimizers/custom_graph_optimizer_registry.cc:114] Plugin optimizer for device_type GPU is enabled.\n"
     ]
    },
    {
     "name": "stdout",
     "output_type": "stream",
     "text": [
      "165/165 [==============================] - 1s 2ms/step\n",
      "(128, 100, 60)\n",
      "Neurons: 60\n",
      "RMSE\n",
      "64.86951126871257\n",
      "MAE\n",
      "62.386195869605814\n",
      "MAPE\n",
      "4.470786839055658\n",
      " 43/165 [======>.......................] - ETA: 0s"
     ]
    },
    {
     "name": "stderr",
     "output_type": "stream",
     "text": [
      "2023-03-17 11:27:13.090868: I tensorflow/core/grappler/optimizers/custom_graph_optimizer_registry.cc:114] Plugin optimizer for device_type GPU is enabled.\n",
      "2023-03-17 11:27:13.114829: I tensorflow/core/grappler/optimizers/custom_graph_optimizer_registry.cc:114] Plugin optimizer for device_type GPU is enabled.\n"
     ]
    },
    {
     "name": "stdout",
     "output_type": "stream",
     "text": [
      "165/165 [==============================] - 1s 2ms/step\n",
      "(128, 100, 100)\n",
      "Neurons: 100\n",
      "RMSE\n",
      "28.110235228677496\n",
      "MAE\n",
      "22.340207514415855\n",
      "MAPE\n",
      "1.5425740954405491\n"
     ]
    }
   ],
   "source": [
    "wb1 = Workbook()\n",
    "ws1 = wb1.active\n",
    "i=0\n",
    "for x in hyperparams:\n",
    "    model = keras.models.load_model('../Model LSTM BTC/LSTM_BTC'+str(x)+'.h5')\n",
    "    test_x2 = test_X\n",
    "    yhat = model.predict(test_x2)\n",
    "    inv_yhat = Preprocessing.inverse_scaler(yhat, scaler)\n",
    "    inv_y = Preprocessing.inverse_scaler(test_y.reshape(-1,1), scaler)\n",
    "    print(x)\n",
    "    # print(\"Epoch: \"+ str(lstms1[i].params['epochs']))\n",
    "    print(\"Neurons: \"+str(model.layers[0].units))\n",
    "    i = i+1\n",
    "    ws1['A'+str(i)] = 'LSTM'\n",
    "    ws1['B'+str(i)] = hyperparams[i-1][0]\n",
    "    ws1['C'+str(i)] = hyperparams[i-1][1]\n",
    "    ws1['D'+str(i)] = hyperparams[i-1][2]\n",
    "    print('RMSE')\n",
    "    print(Evaluation.rmse(inv_y,inv_yhat)[0])\n",
    "    ws1['E'+str(i)] = Evaluation.rmse(inv_y,inv_yhat)[0]\n",
    "    print('MAE')\n",
    "    print(Evaluation.mae(inv_y,inv_yhat)[0])\n",
    "    ws1['F'+str(i)] = Evaluation.mae(inv_y,inv_yhat)[0]\n",
    "    print('MAPE')\n",
    "    print(Evaluation.mape(inv_y,inv_yhat)[0])\n",
    "    ws1['G'+str(i)] = Evaluation.mape(inv_y,inv_yhat)[0]\n",
    "wb1.save('LSTM_ETH_result.xlsx')"
   ]
  },
  {
   "cell_type": "code",
   "execution_count": null,
   "id": "f4c07bee-6239-46e6-a6b8-02760d753ceb",
   "metadata": {},
   "outputs": [],
   "source": []
  }
 ],
 "metadata": {
  "kernelspec": {
   "display_name": "Python 3 (ipykernel)",
   "language": "python",
   "name": "python3"
  },
  "language_info": {
   "codemirror_mode": {
    "name": "ipython",
    "version": 3
   },
   "file_extension": ".py",
   "mimetype": "text/x-python",
   "name": "python",
   "nbconvert_exporter": "python",
   "pygments_lexer": "ipython3",
   "version": "3.9.13"
  }
 },
 "nbformat": 4,
 "nbformat_minor": 5
}
