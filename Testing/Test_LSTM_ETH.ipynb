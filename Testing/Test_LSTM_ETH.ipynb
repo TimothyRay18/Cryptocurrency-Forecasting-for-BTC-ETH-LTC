{
 "cells": [
  {
   "cell_type": "code",
   "execution_count": 1,
   "id": "3d0aa9f1-8162-4f51-8666-384a83630ce5",
   "metadata": {},
   "outputs": [],
   "source": [
    "from tensorflow import keras\n",
    "from Skripsi import Preprocessing\n",
    "from Skripsi import Evaluation\n",
    "from Skripsi import LSTMUnit\n",
    "from pandas import read_csv\n",
    "from pandas import DataFrame\n",
    "import numpy as np\n",
    "import pandas as pd\n",
    "from openpyxl.workbook import Workbook"
   ]
  },
  {
   "cell_type": "code",
   "execution_count": 2,
   "id": "6aa22282-0918-460c-b045-bd64f76068f5",
   "metadata": {},
   "outputs": [
    {
     "data": {
      "text/plain": [
       "[(32, 25, 50),\n",
       " (32, 25, 60),\n",
       " (32, 25, 100),\n",
       " (32, 50, 50),\n",
       " (32, 50, 60),\n",
       " (32, 50, 100),\n",
       " (32, 100, 50),\n",
       " (32, 100, 60),\n",
       " (32, 100, 100)]"
      ]
     },
     "execution_count": 2,
     "metadata": {},
     "output_type": "execute_result"
    }
   ],
   "source": [
    "hyperparams = []\n",
    "batch = [32, 64, 128]\n",
    "epoch = [25, 50, 100]\n",
    "neuron = [50, 60, 100]\n",
    "for j in batch:\n",
    "    for k in epoch:\n",
    "        for l in neuron:\n",
    "            hyperparams.append((j,k,l))\n",
    "hyperparam1 = hyperparams[:9]\n",
    "hyperparam2 = hyperparams[9:18]\n",
    "hyperparam3 = hyperparams[18:27]\n",
    "hyperparam1"
   ]
  },
  {
   "cell_type": "code",
   "execution_count": 3,
   "id": "5afadb25-e60b-4a51-b52f-b7ce399615d4",
   "metadata": {},
   "outputs": [
    {
     "name": "stdout",
     "output_type": "stream",
     "text": [
      "duplicate ok\n",
      "No missing value\n"
     ]
    }
   ],
   "source": [
    "btc_dfd = pd.read_csv('../Dataset/Binance_ETHUSDT_1h.csv')\n",
    "df = Preprocessing.feature_selection(btc_dfd)\n",
    "df_no_dup = Preprocessing.handle_duplicate(df)\n",
    "miss = Preprocessing.handle_missing_value(df_no_dup)\n",
    "x, scaler = Preprocessing.minmax_scale(df_no_dup)\n",
    "train, test = Preprocessing.splitting_data(x)\n",
    "train_X, train_y = Preprocessing.create_dataset(train,50)\n",
    "test_X, test_y = Preprocessing.create_dataset(test,50)"
   ]
  },
  {
   "cell_type": "code",
   "execution_count": 4,
   "id": "57f55621-28fe-4ec4-a534-24540aa20020",
   "metadata": {},
   "outputs": [
    {
     "name": "stdout",
     "output_type": "stream",
     "text": [
      "(20969, 50, 5) (20969,) (5205, 50, 5) (5205,)\n"
     ]
    }
   ],
   "source": [
    "print(train_X.shape, train_y.shape, test_X.shape, test_y.shape)"
   ]
  },
  {
   "cell_type": "code",
   "execution_count": 5,
   "id": "0e955542-c74d-4e48-9eea-696ca4022b95",
   "metadata": {},
   "outputs": [
    {
     "name": "stdout",
     "output_type": "stream",
     "text": [
      "Metal device set to: Apple M1\n"
     ]
    },
    {
     "name": "stderr",
     "output_type": "stream",
     "text": [
      "2023-04-04 23:59:25.736267: I tensorflow/core/common_runtime/pluggable_device/pluggable_device_factory.cc:306] Could not identify NUMA node of platform GPU ID 0, defaulting to 0. Your kernel may not have been built with NUMA support.\n",
      "2023-04-04 23:59:25.736375: I tensorflow/core/common_runtime/pluggable_device/pluggable_device_factory.cc:272] Created TensorFlow device (/job:localhost/replica:0/task:0/device:GPU:0 with 0 MB memory) -> physical PluggableDevice (device: 0, name: METAL, pci bus id: <undefined>)\n",
      "2023-04-04 23:59:25.994972: W tensorflow/core/platform/profile_utils/cpu_utils.cc:128] Failed to get CPU frequency: 0 Hz\n",
      "2023-04-04 23:59:26.083225: I tensorflow/core/grappler/optimizers/custom_graph_optimizer_registry.cc:114] Plugin optimizer for device_type GPU is enabled.\n",
      "2023-04-04 23:59:26.112219: I tensorflow/core/grappler/optimizers/custom_graph_optimizer_registry.cc:114] Plugin optimizer for device_type GPU is enabled.\n"
     ]
    },
    {
     "name": "stdout",
     "output_type": "stream",
     "text": [
      "163/163 [==============================] - 2s 8ms/step\n",
      "(32, 25, 50)\n",
      "Neurons: 50\n",
      "RMSE\n",
      "26.66333400372617\n",
      "MAE\n",
      "22.816786704115593\n",
      "MAPE\n",
      "1.7201288417169165\n",
      "  8/163 [>.............................] - ETA: 1s "
     ]
    },
    {
     "name": "stderr",
     "output_type": "stream",
     "text": [
      "2023-04-04 23:59:28.311275: I tensorflow/core/grappler/optimizers/custom_graph_optimizer_registry.cc:114] Plugin optimizer for device_type GPU is enabled.\n",
      "2023-04-04 23:59:28.342191: I tensorflow/core/grappler/optimizers/custom_graph_optimizer_registry.cc:114] Plugin optimizer for device_type GPU is enabled.\n"
     ]
    },
    {
     "name": "stdout",
     "output_type": "stream",
     "text": [
      "163/163 [==============================] - 1s 8ms/step\n",
      "(32, 25, 60)\n",
      "Neurons: 60\n",
      "RMSE\n",
      "29.70557573993595\n",
      "MAE\n",
      "25.52038370510248\n",
      "MAPE\n",
      "1.9424010351611003\n",
      "  8/163 [>.............................] - ETA: 1s "
     ]
    },
    {
     "name": "stderr",
     "output_type": "stream",
     "text": [
      "2023-04-04 23:59:29.957687: I tensorflow/core/grappler/optimizers/custom_graph_optimizer_registry.cc:114] Plugin optimizer for device_type GPU is enabled.\n",
      "2023-04-04 23:59:29.985696: I tensorflow/core/grappler/optimizers/custom_graph_optimizer_registry.cc:114] Plugin optimizer for device_type GPU is enabled.\n"
     ]
    },
    {
     "name": "stdout",
     "output_type": "stream",
     "text": [
      "163/163 [==============================] - 1s 8ms/step\n",
      "(32, 25, 100)\n",
      "Neurons: 100\n",
      "RMSE\n",
      "38.941257636788954\n",
      "MAE\n",
      "33.87607608416264\n",
      "MAPE\n",
      "2.616998300629657\n",
      "  8/163 [>.............................] - ETA: 1s "
     ]
    },
    {
     "name": "stderr",
     "output_type": "stream",
     "text": [
      "2023-04-04 23:59:31.601437: I tensorflow/core/grappler/optimizers/custom_graph_optimizer_registry.cc:114] Plugin optimizer for device_type GPU is enabled.\n",
      "2023-04-04 23:59:31.626593: I tensorflow/core/grappler/optimizers/custom_graph_optimizer_registry.cc:114] Plugin optimizer for device_type GPU is enabled.\n"
     ]
    },
    {
     "name": "stdout",
     "output_type": "stream",
     "text": [
      "163/163 [==============================] - 1s 8ms/step\n",
      "(32, 50, 50)\n",
      "Neurons: 50\n",
      "RMSE\n",
      "24.282536623265546\n",
      "MAE\n",
      "21.35320544961279\n",
      "MAPE\n",
      "1.5180911135851176\n",
      "  8/163 [>.............................] - ETA: 1s "
     ]
    },
    {
     "name": "stderr",
     "output_type": "stream",
     "text": [
      "2023-04-04 23:59:33.212547: I tensorflow/core/grappler/optimizers/custom_graph_optimizer_registry.cc:114] Plugin optimizer for device_type GPU is enabled.\n",
      "2023-04-04 23:59:33.238361: I tensorflow/core/grappler/optimizers/custom_graph_optimizer_registry.cc:114] Plugin optimizer for device_type GPU is enabled.\n"
     ]
    },
    {
     "name": "stdout",
     "output_type": "stream",
     "text": [
      "163/163 [==============================] - 1s 8ms/step\n",
      "(32, 50, 60)\n",
      "Neurons: 60\n",
      "RMSE\n",
      "20.871096809773547\n",
      "MAE\n",
      "17.24329614421978\n",
      "MAPE\n",
      "1.2602706256697818\n",
      "  8/163 [>.............................] - ETA: 1s "
     ]
    },
    {
     "name": "stderr",
     "output_type": "stream",
     "text": [
      "2023-04-04 23:59:34.937270: I tensorflow/core/grappler/optimizers/custom_graph_optimizer_registry.cc:114] Plugin optimizer for device_type GPU is enabled.\n",
      "2023-04-04 23:59:34.962409: I tensorflow/core/grappler/optimizers/custom_graph_optimizer_registry.cc:114] Plugin optimizer for device_type GPU is enabled.\n"
     ]
    },
    {
     "name": "stdout",
     "output_type": "stream",
     "text": [
      "163/163 [==============================] - 2s 8ms/step\n",
      "(32, 50, 100)\n",
      "Neurons: 100\n",
      "RMSE\n",
      "19.870527712103478\n",
      "MAE\n",
      "16.27840496902391\n",
      "MAPE\n",
      "1.190795038982168\n",
      "  8/163 [>.............................] - ETA: 1s "
     ]
    },
    {
     "name": "stderr",
     "output_type": "stream",
     "text": [
      "2023-04-04 23:59:36.576498: I tensorflow/core/grappler/optimizers/custom_graph_optimizer_registry.cc:114] Plugin optimizer for device_type GPU is enabled.\n",
      "2023-04-04 23:59:36.601813: I tensorflow/core/grappler/optimizers/custom_graph_optimizer_registry.cc:114] Plugin optimizer for device_type GPU is enabled.\n"
     ]
    },
    {
     "name": "stdout",
     "output_type": "stream",
     "text": [
      "163/163 [==============================] - 1s 8ms/step\n",
      "(32, 100, 50)\n",
      "Neurons: 50\n",
      "RMSE\n",
      "21.71598523428441\n",
      "MAE\n",
      "18.530643998409015\n",
      "MAPE\n",
      "1.316006240143733\n",
      "  8/163 [>.............................] - ETA: 1s "
     ]
    },
    {
     "name": "stderr",
     "output_type": "stream",
     "text": [
      "2023-04-04 23:59:38.206620: I tensorflow/core/grappler/optimizers/custom_graph_optimizer_registry.cc:114] Plugin optimizer for device_type GPU is enabled.\n",
      "2023-04-04 23:59:38.232214: I tensorflow/core/grappler/optimizers/custom_graph_optimizer_registry.cc:114] Plugin optimizer for device_type GPU is enabled.\n"
     ]
    },
    {
     "name": "stdout",
     "output_type": "stream",
     "text": [
      "163/163 [==============================] - 1s 8ms/step\n",
      "(32, 100, 60)\n",
      "Neurons: 60\n",
      "RMSE\n",
      "15.844898452700086\n",
      "MAE\n",
      "11.29462920362781\n",
      "MAPE\n",
      "0.7939789963087123\n",
      "  8/163 [>.............................] - ETA: 1s "
     ]
    },
    {
     "name": "stderr",
     "output_type": "stream",
     "text": [
      "2023-04-04 23:59:39.788959: I tensorflow/core/grappler/optimizers/custom_graph_optimizer_registry.cc:114] Plugin optimizer for device_type GPU is enabled.\n",
      "2023-04-04 23:59:39.814338: I tensorflow/core/grappler/optimizers/custom_graph_optimizer_registry.cc:114] Plugin optimizer for device_type GPU is enabled.\n"
     ]
    },
    {
     "name": "stdout",
     "output_type": "stream",
     "text": [
      "163/163 [==============================] - 1s 8ms/step\n",
      "(32, 100, 100)\n",
      "Neurons: 100\n",
      "RMSE\n",
      "16.514415977137087\n",
      "MAE\n",
      "12.327217118174385\n",
      "MAPE\n",
      "0.8514560069729206\n",
      "  8/163 [>.............................] - ETA: 1s "
     ]
    },
    {
     "name": "stderr",
     "output_type": "stream",
     "text": [
      "2023-04-04 23:59:41.411302: I tensorflow/core/grappler/optimizers/custom_graph_optimizer_registry.cc:114] Plugin optimizer for device_type GPU is enabled.\n",
      "2023-04-04 23:59:41.436884: I tensorflow/core/grappler/optimizers/custom_graph_optimizer_registry.cc:114] Plugin optimizer for device_type GPU is enabled.\n"
     ]
    },
    {
     "name": "stdout",
     "output_type": "stream",
     "text": [
      "163/163 [==============================] - 1s 8ms/step\n",
      "(64, 25, 50)\n",
      "Neurons: 50\n",
      "RMSE\n",
      "49.615568377511146\n",
      "MAE\n",
      "45.42449969417943\n",
      "MAPE\n",
      "3.4809272803229105\n",
      "  8/163 [>.............................] - ETA: 1s "
     ]
    },
    {
     "name": "stderr",
     "output_type": "stream",
     "text": [
      "2023-04-04 23:59:43.011055: I tensorflow/core/grappler/optimizers/custom_graph_optimizer_registry.cc:114] Plugin optimizer for device_type GPU is enabled.\n",
      "2023-04-04 23:59:43.036798: I tensorflow/core/grappler/optimizers/custom_graph_optimizer_registry.cc:114] Plugin optimizer for device_type GPU is enabled.\n"
     ]
    },
    {
     "name": "stdout",
     "output_type": "stream",
     "text": [
      "163/163 [==============================] - 1s 7ms/step\n",
      "(64, 25, 60)\n",
      "Neurons: 60\n",
      "RMSE\n",
      "50.03039534373949\n",
      "MAE\n",
      "45.813408633713244\n",
      "MAPE\n",
      "3.5112115318139523\n",
      "  8/163 [>.............................] - ETA: 1s "
     ]
    },
    {
     "name": "stderr",
     "output_type": "stream",
     "text": [
      "2023-04-04 23:59:44.592925: I tensorflow/core/grappler/optimizers/custom_graph_optimizer_registry.cc:114] Plugin optimizer for device_type GPU is enabled.\n",
      "2023-04-04 23:59:44.619049: I tensorflow/core/grappler/optimizers/custom_graph_optimizer_registry.cc:114] Plugin optimizer for device_type GPU is enabled.\n"
     ]
    },
    {
     "name": "stdout",
     "output_type": "stream",
     "text": [
      "163/163 [==============================] - 1s 8ms/step\n",
      "(64, 25, 100)\n",
      "Neurons: 100\n",
      "RMSE\n",
      "53.329968446326745\n",
      "MAE\n",
      "49.41870884788156\n",
      "MAPE\n",
      "3.770915377666801\n",
      "  8/163 [>.............................] - ETA: 1s "
     ]
    },
    {
     "name": "stderr",
     "output_type": "stream",
     "text": [
      "2023-04-04 23:59:46.246724: I tensorflow/core/grappler/optimizers/custom_graph_optimizer_registry.cc:114] Plugin optimizer for device_type GPU is enabled.\n",
      "2023-04-04 23:59:46.272393: I tensorflow/core/grappler/optimizers/custom_graph_optimizer_registry.cc:114] Plugin optimizer for device_type GPU is enabled.\n"
     ]
    },
    {
     "name": "stdout",
     "output_type": "stream",
     "text": [
      "163/163 [==============================] - 1s 8ms/step\n",
      "(64, 50, 50)\n",
      "Neurons: 50\n",
      "RMSE\n",
      "42.98649296007194\n",
      "MAE\n",
      "38.84597117545862\n",
      "MAPE\n",
      "2.9929877554925812\n",
      "  8/163 [>.............................] - ETA: 1s "
     ]
    },
    {
     "name": "stderr",
     "output_type": "stream",
     "text": [
      "2023-04-04 23:59:47.894514: I tensorflow/core/grappler/optimizers/custom_graph_optimizer_registry.cc:114] Plugin optimizer for device_type GPU is enabled.\n",
      "2023-04-04 23:59:47.919837: I tensorflow/core/grappler/optimizers/custom_graph_optimizer_registry.cc:114] Plugin optimizer for device_type GPU is enabled.\n"
     ]
    },
    {
     "name": "stdout",
     "output_type": "stream",
     "text": [
      "163/163 [==============================] - 1s 8ms/step\n",
      "(64, 50, 60)\n",
      "Neurons: 60\n",
      "RMSE\n",
      "43.24006443766527\n",
      "MAE\n",
      "39.45852939865898\n",
      "MAPE\n",
      "3.0255722371880887\n",
      "  8/163 [>.............................] - ETA: 1s "
     ]
    },
    {
     "name": "stderr",
     "output_type": "stream",
     "text": [
      "2023-04-04 23:59:49.487064: I tensorflow/core/grappler/optimizers/custom_graph_optimizer_registry.cc:114] Plugin optimizer for device_type GPU is enabled.\n",
      "2023-04-04 23:59:49.512453: I tensorflow/core/grappler/optimizers/custom_graph_optimizer_registry.cc:114] Plugin optimizer for device_type GPU is enabled.\n"
     ]
    },
    {
     "name": "stdout",
     "output_type": "stream",
     "text": [
      "163/163 [==============================] - 1s 8ms/step\n",
      "(64, 50, 100)\n",
      "Neurons: 100\n",
      "RMSE\n",
      "46.14590313198751\n",
      "MAE\n",
      "42.2440218600843\n",
      "MAPE\n",
      "3.239658926734837\n",
      "  8/163 [>.............................] - ETA: 1s "
     ]
    },
    {
     "name": "stderr",
     "output_type": "stream",
     "text": [
      "2023-04-04 23:59:51.136347: I tensorflow/core/grappler/optimizers/custom_graph_optimizer_registry.cc:114] Plugin optimizer for device_type GPU is enabled.\n",
      "2023-04-04 23:59:51.161932: I tensorflow/core/grappler/optimizers/custom_graph_optimizer_registry.cc:114] Plugin optimizer for device_type GPU is enabled.\n"
     ]
    },
    {
     "name": "stdout",
     "output_type": "stream",
     "text": [
      "163/163 [==============================] - 1s 8ms/step\n",
      "(64, 100, 50)\n",
      "Neurons: 50\n",
      "RMSE\n",
      "106.63278444970811\n",
      "MAE\n",
      "103.31514283422644\n",
      "MAPE\n",
      "7.768913984216207\n",
      "  8/163 [>.............................] - ETA: 1s "
     ]
    },
    {
     "name": "stderr",
     "output_type": "stream",
     "text": [
      "2023-04-04 23:59:52.787922: I tensorflow/core/grappler/optimizers/custom_graph_optimizer_registry.cc:114] Plugin optimizer for device_type GPU is enabled.\n",
      "2023-04-04 23:59:52.813595: I tensorflow/core/grappler/optimizers/custom_graph_optimizer_registry.cc:114] Plugin optimizer for device_type GPU is enabled.\n"
     ]
    },
    {
     "name": "stdout",
     "output_type": "stream",
     "text": [
      "163/163 [==============================] - 1s 7ms/step\n",
      "(64, 100, 60)\n",
      "Neurons: 60\n",
      "RMSE\n",
      "37.203964949706545\n",
      "MAE\n",
      "33.66014430422977\n",
      "MAPE\n",
      "2.578469307998734\n",
      "  8/163 [>.............................] - ETA: 1s "
     ]
    },
    {
     "name": "stderr",
     "output_type": "stream",
     "text": [
      "2023-04-04 23:59:54.531482: I tensorflow/core/grappler/optimizers/custom_graph_optimizer_registry.cc:114] Plugin optimizer for device_type GPU is enabled.\n",
      "2023-04-04 23:59:54.556867: I tensorflow/core/grappler/optimizers/custom_graph_optimizer_registry.cc:114] Plugin optimizer for device_type GPU is enabled.\n"
     ]
    },
    {
     "name": "stdout",
     "output_type": "stream",
     "text": [
      "163/163 [==============================] - 2s 8ms/step\n",
      "(64, 100, 100)\n",
      "Neurons: 100\n",
      "RMSE\n",
      "57.519826640404425\n",
      "MAE\n",
      "52.47922174113326\n",
      "MAPE\n",
      "4.057419516941404\n",
      "  7/163 [>.............................] - ETA: 1s "
     ]
    },
    {
     "name": "stderr",
     "output_type": "stream",
     "text": [
      "2023-04-04 23:59:56.235713: I tensorflow/core/grappler/optimizers/custom_graph_optimizer_registry.cc:114] Plugin optimizer for device_type GPU is enabled.\n",
      "2023-04-04 23:59:56.261788: I tensorflow/core/grappler/optimizers/custom_graph_optimizer_registry.cc:114] Plugin optimizer for device_type GPU is enabled.\n"
     ]
    },
    {
     "name": "stdout",
     "output_type": "stream",
     "text": [
      "163/163 [==============================] - 1s 8ms/step\n",
      "(128, 25, 50)\n",
      "Neurons: 50\n",
      "RMSE\n",
      "47.998884660395156\n",
      "MAE\n",
      "42.69921886022692\n",
      "MAPE\n",
      "3.302661768307495\n",
      "  8/163 [>.............................] - ETA: 1s "
     ]
    },
    {
     "name": "stderr",
     "output_type": "stream",
     "text": [
      "2023-04-04 23:59:57.896869: I tensorflow/core/grappler/optimizers/custom_graph_optimizer_registry.cc:114] Plugin optimizer for device_type GPU is enabled.\n",
      "2023-04-04 23:59:57.922669: I tensorflow/core/grappler/optimizers/custom_graph_optimizer_registry.cc:114] Plugin optimizer for device_type GPU is enabled.\n"
     ]
    },
    {
     "name": "stdout",
     "output_type": "stream",
     "text": [
      "163/163 [==============================] - 1s 8ms/step\n",
      "(128, 25, 60)\n",
      "Neurons: 60\n",
      "RMSE\n",
      "39.12729289214497\n",
      "MAE\n",
      "34.0146860656446\n",
      "MAPE\n",
      "2.6321911448822064\n",
      "  8/163 [>.............................] - ETA: 1s "
     ]
    },
    {
     "name": "stderr",
     "output_type": "stream",
     "text": [
      "2023-04-04 23:59:59.561684: I tensorflow/core/grappler/optimizers/custom_graph_optimizer_registry.cc:114] Plugin optimizer for device_type GPU is enabled.\n",
      "2023-04-04 23:59:59.587153: I tensorflow/core/grappler/optimizers/custom_graph_optimizer_registry.cc:114] Plugin optimizer for device_type GPU is enabled.\n"
     ]
    },
    {
     "name": "stdout",
     "output_type": "stream",
     "text": [
      "163/163 [==============================] - 2s 8ms/step\n",
      "(128, 25, 100)\n",
      "Neurons: 100\n",
      "RMSE\n",
      "51.74183840160437\n",
      "MAE\n",
      "47.16665556612501\n",
      "MAPE\n",
      "3.6167226241850203\n",
      "  7/163 [>.............................] - ETA: 1s "
     ]
    },
    {
     "name": "stderr",
     "output_type": "stream",
     "text": [
      "2023-04-05 00:00:01.380986: I tensorflow/core/grappler/optimizers/custom_graph_optimizer_registry.cc:114] Plugin optimizer for device_type GPU is enabled.\n",
      "2023-04-05 00:00:01.414905: I tensorflow/core/grappler/optimizers/custom_graph_optimizer_registry.cc:114] Plugin optimizer for device_type GPU is enabled.\n"
     ]
    },
    {
     "name": "stdout",
     "output_type": "stream",
     "text": [
      "163/163 [==============================] - 2s 8ms/step\n",
      "(128, 50, 50)\n",
      "Neurons: 50\n",
      "RMSE\n",
      "41.369416546552976\n",
      "MAE\n",
      "36.35942336142014\n",
      "MAPE\n",
      "2.821677309580993\n",
      "  8/163 [>.............................] - ETA: 1s "
     ]
    },
    {
     "name": "stderr",
     "output_type": "stream",
     "text": [
      "2023-04-05 00:00:03.100298: I tensorflow/core/grappler/optimizers/custom_graph_optimizer_registry.cc:114] Plugin optimizer for device_type GPU is enabled.\n",
      "2023-04-05 00:00:03.126125: I tensorflow/core/grappler/optimizers/custom_graph_optimizer_registry.cc:114] Plugin optimizer for device_type GPU is enabled.\n"
     ]
    },
    {
     "name": "stdout",
     "output_type": "stream",
     "text": [
      "163/163 [==============================] - 1s 7ms/step\n",
      "(128, 50, 60)\n",
      "Neurons: 60\n",
      "RMSE\n",
      "31.689302338702927\n",
      "MAE\n",
      "26.960384003418383\n",
      "MAPE\n",
      "2.0885479336164603\n",
      "  7/163 [>.............................] - ETA: 1s "
     ]
    },
    {
     "name": "stderr",
     "output_type": "stream",
     "text": [
      "2023-04-05 00:00:04.693759: I tensorflow/core/grappler/optimizers/custom_graph_optimizer_registry.cc:114] Plugin optimizer for device_type GPU is enabled.\n",
      "2023-04-05 00:00:04.719526: I tensorflow/core/grappler/optimizers/custom_graph_optimizer_registry.cc:114] Plugin optimizer for device_type GPU is enabled.\n"
     ]
    },
    {
     "name": "stdout",
     "output_type": "stream",
     "text": [
      "163/163 [==============================] - 1s 8ms/step\n",
      "(128, 50, 100)\n",
      "Neurons: 100\n",
      "RMSE\n",
      "28.880322768674162\n",
      "MAE\n",
      "24.413414871142454\n",
      "MAPE\n",
      "1.8816739774910003\n",
      "  8/163 [>.............................] - ETA: 1s "
     ]
    },
    {
     "name": "stderr",
     "output_type": "stream",
     "text": [
      "2023-04-05 00:00:06.364355: I tensorflow/core/grappler/optimizers/custom_graph_optimizer_registry.cc:114] Plugin optimizer for device_type GPU is enabled.\n",
      "2023-04-05 00:00:06.390017: I tensorflow/core/grappler/optimizers/custom_graph_optimizer_registry.cc:114] Plugin optimizer for device_type GPU is enabled.\n"
     ]
    },
    {
     "name": "stdout",
     "output_type": "stream",
     "text": [
      "163/163 [==============================] - 1s 8ms/step\n",
      "(128, 100, 50)\n",
      "Neurons: 50\n",
      "RMSE\n",
      "17.507733204876597\n",
      "MAE\n",
      "12.865269931818872\n",
      "MAPE\n",
      "0.9701387070080099\n",
      "  6/163 [>.............................] - ETA: 1s "
     ]
    },
    {
     "name": "stderr",
     "output_type": "stream",
     "text": [
      "2023-04-05 00:00:08.067581: I tensorflow/core/grappler/optimizers/custom_graph_optimizer_registry.cc:114] Plugin optimizer for device_type GPU is enabled.\n",
      "2023-04-05 00:00:08.094941: I tensorflow/core/grappler/optimizers/custom_graph_optimizer_registry.cc:114] Plugin optimizer for device_type GPU is enabled.\n"
     ]
    },
    {
     "name": "stdout",
     "output_type": "stream",
     "text": [
      "163/163 [==============================] - 2s 9ms/step\n",
      "(128, 100, 60)\n",
      "Neurons: 60\n",
      "RMSE\n",
      "34.7383398947237\n",
      "MAE\n",
      "30.125282992052377\n",
      "MAPE\n",
      "2.3414495903955266\n",
      "  6/163 [>.............................] - ETA: 1s "
     ]
    },
    {
     "name": "stderr",
     "output_type": "stream",
     "text": [
      "2023-04-05 00:00:09.880281: I tensorflow/core/grappler/optimizers/custom_graph_optimizer_registry.cc:114] Plugin optimizer for device_type GPU is enabled.\n",
      "2023-04-05 00:00:09.909148: I tensorflow/core/grappler/optimizers/custom_graph_optimizer_registry.cc:114] Plugin optimizer for device_type GPU is enabled.\n"
     ]
    },
    {
     "name": "stdout",
     "output_type": "stream",
     "text": [
      "163/163 [==============================] - 2s 8ms/step\n",
      "(128, 100, 100)\n",
      "Neurons: 100\n",
      "RMSE\n",
      "23.56868568727281\n",
      "MAE\n",
      "19.51341552312227\n",
      "MAPE\n",
      "1.495778049782761\n"
     ]
    }
   ],
   "source": [
    "wb1 = Workbook()\n",
    "ws1 = wb1.active\n",
    "i=0\n",
    "for x in hyperparams:\n",
    "    model = keras.models.load_model('../Model LSTM ETH/LSTM_ETH'+str(x)+'.h5')\n",
    "    test_x2 = test_X\n",
    "    yhat = model.predict(test_x2)\n",
    "    inv_yhat = Preprocessing.inverse_scaler(yhat, scaler)\n",
    "    inv_y = Preprocessing.inverse_scaler(test_y.reshape(-1,1), scaler)\n",
    "    print(x)\n",
    "    # print(\"Epoch: \"+ str(lstms1[i].params['epochs']))\n",
    "    print(\"Neurons: \"+str(model.layers[0].units))\n",
    "    i = i+1\n",
    "    ws1['A'+str(i)] = 'LSTM'\n",
    "    ws1['B'+str(i)] = hyperparams[i-1][0]\n",
    "    ws1['C'+str(i)] = hyperparams[i-1][1]\n",
    "    ws1['D'+str(i)] = hyperparams[i-1][2]\n",
    "    print('RMSE')\n",
    "    print(Evaluation.rmse(inv_y,inv_yhat)[0])\n",
    "    ws1['E'+str(i)] = Evaluation.rmse(inv_y,inv_yhat)[0]\n",
    "    print('MAE')\n",
    "    print(Evaluation.mae(inv_y,inv_yhat)[0])\n",
    "    ws1['F'+str(i)] = Evaluation.mae(inv_y,inv_yhat)[0]\n",
    "    print('MAPE')\n",
    "    print(Evaluation.mape(inv_y,inv_yhat)[0])\n",
    "    ws1['G'+str(i)] = Evaluation.mape(inv_y,inv_yhat)[0]\n",
    "wb1.save('LSTM_ETH_result.xlsx')"
   ]
  },
  {
   "cell_type": "code",
   "execution_count": null,
   "id": "f4c07bee-6239-46e6-a6b8-02760d753ceb",
   "metadata": {},
   "outputs": [],
   "source": []
  }
 ],
 "metadata": {
  "kernelspec": {
   "display_name": "Python 3 (ipykernel)",
   "language": "python",
   "name": "python3"
  },
  "language_info": {
   "codemirror_mode": {
    "name": "ipython",
    "version": 3
   },
   "file_extension": ".py",
   "mimetype": "text/x-python",
   "name": "python",
   "nbconvert_exporter": "python",
   "pygments_lexer": "ipython3",
   "version": "3.9.13"
  }
 },
 "nbformat": 4,
 "nbformat_minor": 5
}
